{
 "cells": [
  {
   "cell_type": "markdown",
   "metadata": {},
   "source": [
    "## (a) Shipping Allocation without Increased Demand"
   ]
  },
  {
   "cell_type": "code",
   "execution_count": 1,
   "metadata": {},
   "outputs": [
    {
     "ename": "ValueError",
     "evalue": "could not broadcast input array from shape (2,2) into shape (3,2)",
     "output_type": "error",
     "traceback": [
      "\u001b[0;31m---------------------------------------------------------------------------\u001b[0m",
      "\u001b[0;31mValueError\u001b[0m                                Traceback (most recent call last)",
      "Cell \u001b[0;32mIn[1], line 21\u001b[0m\n\u001b[1;32m     19\u001b[0m constraint_matrix[\u001b[38;5;241m0\u001b[39m, :\u001b[38;5;241m2\u001b[39m] \u001b[38;5;241m=\u001b[39m \u001b[38;5;241m1\u001b[39m  \u001b[38;5;66;03m# Supply constraint for Factory A\u001b[39;00m\n\u001b[1;32m     20\u001b[0m constraint_matrix[\u001b[38;5;241m1\u001b[39m, \u001b[38;5;241m2\u001b[39m:] \u001b[38;5;241m=\u001b[39m \u001b[38;5;241m1\u001b[39m  \u001b[38;5;66;03m# Supply constraint for Factory B\u001b[39;00m\n\u001b[0;32m---> 21\u001b[0m \u001b[43mconstraint_matrix\u001b[49m\u001b[43m[\u001b[49m\u001b[38;5;241;43m2\u001b[39;49m\u001b[43m:\u001b[49m\u001b[43m,\u001b[49m\u001b[43m \u001b[49m\u001b[43m:\u001b[49m\u001b[38;5;241;43m2\u001b[39;49m\u001b[43m]\u001b[49m \u001b[38;5;241m=\u001b[39m np\u001b[38;5;241m.\u001b[39meye(\u001b[38;5;241m2\u001b[39m)  \u001b[38;5;66;03m# Demand constraints for Warehouses 1 and 2\u001b[39;00m\n\u001b[1;32m     22\u001b[0m constraint_matrix[\u001b[38;5;241m2\u001b[39m:, \u001b[38;5;241m2\u001b[39m:] \u001b[38;5;241m=\u001b[39m \u001b[38;5;241m-\u001b[39mnp\u001b[38;5;241m.\u001b[39meye(\u001b[38;5;241m3\u001b[39m)  \u001b[38;5;66;03m# Demand constraint for Warehouse 3\u001b[39;00m\n\u001b[1;32m     24\u001b[0m \u001b[38;5;66;03m# Solve the transportation problem\u001b[39;00m\n",
      "\u001b[0;31mValueError\u001b[0m: could not broadcast input array from shape (2,2) into shape (3,2)"
     ]
    }
   ],
   "source": [
    "import numpy as np\n",
    "from scipy.optimize import linprog\n",
    "\n",
    "# Supply from factories\n",
    "supply = np.array([18, 22])\n",
    "\n",
    "# Demand at warehouses\n",
    "demand = np.array([10, 20, 10])\n",
    "\n",
    "# Cost matrix\n",
    "cost = np.array([[4, 2, 3],\n",
    "                  [3, 2, 1]])\n",
    "\n",
    "# Combine supply and demand into a single array\n",
    "supply_demand = np.concatenate((supply, demand))\n",
    "\n",
    "# Create the constraint matrix\n",
    "constraint_matrix = np.zeros((5, 6))\n",
    "constraint_matrix[0, :2] = 1  # Supply constraint for Factory A\n",
    "constraint_matrix[1, 2:] = 1  # Supply constraint for Factory B\n",
    "constraint_matrix[2:, :2] = np.eye(2)  # Demand constraints for Warehouses 1 and 2\n",
    "constraint_matrix[2:, 2:] = -np.eye(3)  # Demand constraint for Warehouse 3\n",
    "\n",
    "# Solve the transportation problem\n",
    "res = linprog(-cost.reshape(6), A_eq=constraint_matrix, b_eq=supply_demand)\n",
    "\n",
    "# Print the optimal solution\n",
    "print(\"Optimal Shipping Allocation:\")\n",
    "print(res.x.reshape(2, 3))"
   ]
  },
  {
   "cell_type": "markdown",
   "metadata": {},
   "source": [
    "## (b) Shipping Allocation with Increased Demand"
   ]
  },
  {
   "cell_type": "code",
   "execution_count": null,
   "metadata": {},
   "outputs": [],
   "source": [
    "# New demand with increased by 4 units at each warehouse\n",
    "new_demand = demand + 4\n",
    "\n",
    "# Create the constraint matrix for the new demand\n",
    "new_constraint_matrix = np.zeros((5, 6))\n",
    "new_constraint_matrix[0, :2] = 1  # Supply constraint for Factory A\n",
    "new_constraint_matrix[1, 2:] = 1  # Supply constraint for Factory B\n",
    "new_constraint_matrix[2:, :2] = np.eye(2)  # Demand constraints for Warehouses 1 and 2\n",
    "new_constraint_matrix[2:, 2:] = -np.eye(3)  # Demand constraint for Warehouse 3\n",
    "\n",
    "# Combine supply and new demand into a single array\n",
    "new_supply_demand = np.concatenate((supply, new_demand))\n",
    "\n",
    "# Solve the transportation problem with increased demand\n",
    "new_res = linprog(-cost.reshape(6), A_eq=new_constraint_matrix, b_eq=new_supply_demand)\n",
    "\n",
    "# Print the optimal solution with increased demand\n",
    "print(\"Optimal Shipping Allocation with Increased Demand:\")\n",
    "print(new_res.x.reshape(2, 3))"
   ]
  }
 ],
 "metadata": {
  "kernelspec": {
   "display_name": "Python 3",
   "language": "python",
   "name": "python3"
  },
  "language_info": {
   "codemirror_mode": {
    "name": "ipython",
    "version": 3
   },
   "file_extension": ".py",
   "mimetype": "text/x-python",
   "name": "python",
   "nbconvert_exporter": "python",
   "pygments_lexer": "ipython3",
   "version": "3.10.13"
  }
 },
 "nbformat": 4,
 "nbformat_minor": 4
}
